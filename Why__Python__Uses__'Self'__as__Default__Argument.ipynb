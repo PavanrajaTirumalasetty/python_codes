{
  "nbformat": 4,
  "nbformat_minor": 0,
  "metadata": {
    "colab": {
      "provenance": [],
      "authorship_tag": "ABX9TyNq0OjAKUiXmhgY3QzaLLIW",
      "include_colab_link": true
    },
    "kernelspec": {
      "name": "python3",
      "display_name": "Python 3"
    },
    "language_info": {
      "name": "python"
    }
  },
  "cells": [
    {
      "cell_type": "markdown",
      "metadata": {
        "id": "view-in-github",
        "colab_type": "text"
      },
      "source": [
        "<a href=\"https://colab.research.google.com/github/PavanrajaTirumalasetty/python_codes/blob/main/Why__Python__Uses__'Self'__as__Default__Argument.ipynb\" target=\"_parent\"><img src=\"https://colab.research.google.com/assets/colab-badge.svg\" alt=\"Open In Colab\"/></a>"
      ]
    },
    {
      "cell_type": "code",
      "execution_count": 1,
      "metadata": {
        "colab": {
          "base_uri": "https://localhost:8080/"
        },
        "id": "GELA1rQbiQyA",
        "outputId": "91bba7d2-44dc-4632-9ce1-992f07f75d2e"
      },
      "outputs": [
        {
          "output_type": "stream",
          "name": "stdout",
          "text": [
            "('Toyota', 'Corolla')\n"
          ]
        }
      ],
      "source": [
        "class Car:\n",
        "    def __init__(self, brand, model):\n",
        "        self.brand = brand  # Set instance attribute\n",
        "        self.model = model  # Set instance attribute\n",
        "\n",
        "    def display(self):\n",
        "        return self.brand, self.model\n",
        "\n",
        "# Create an instance of Car\n",
        "car1 = Car(\"Toyota\", \"Corolla\")\n",
        "\n",
        "# Call the display_info method\n",
        "print(car1.display())  # Output: This car is a Toyota Corolla\n",
        "\n"
      ]
    }
  ]
}