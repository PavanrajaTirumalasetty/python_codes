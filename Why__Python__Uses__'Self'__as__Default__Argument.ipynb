{
  "nbformat": 4,
  "nbformat_minor": 0,
  "metadata": {
    "colab": {
      "provenance": [],
      "authorship_tag": "ABX9TyMPR27vo05RETVKTkGcDIT0",
      "include_colab_link": true
    },
    "kernelspec": {
      "name": "python3",
      "display_name": "Python 3"
    },
    "language_info": {
      "name": "python"
    }
  },
  "cells": [
    {
      "cell_type": "markdown",
      "metadata": {
        "id": "view-in-github",
        "colab_type": "text"
      },
      "source": [
        "<a href=\"https://colab.research.google.com/github/PavanrajaTirumalasetty/python_codes/blob/main/Why__Python__Uses__'Self'__as__Default__Argument.ipynb\" target=\"_parent\"><img src=\"https://colab.research.google.com/assets/colab-badge.svg\" alt=\"Open In Colab\"/></a>"
      ]
    },
    {
      "cell_type": "code",
      "execution_count": 1,
      "metadata": {
        "colab": {
          "base_uri": "https://localhost:8080/"
        },
        "id": "lka97R74Co8B",
        "outputId": "aa6fa674-c028-45f5-9bf5-4423b919f8f6"
      },
      "outputs": [
        {
          "output_type": "stream",
          "name": "stdout",
          "text": [
            "('Toyota', 'Corolla')\n"
          ]
        }
      ],
      "source": [
        "class Car:\n",
        "    def __init__(self, brand, model):\n",
        "        self.brand = brand  # Set instance attribute\n",
        "        self.model = model  # Set instance attribute\n",
        "\n",
        "    def display(self):\n",
        "        return self.brand, self.model\n",
        "\n",
        "# Create an instance of Car\n",
        "car1 = Car(\"Toyota\", \"Corolla\")\n",
        "\n",
        "# Call the display_info method\n",
        "print(car1.display())  # Output: This car is a Toyota Corolla"
      ]
    }
  ]
}