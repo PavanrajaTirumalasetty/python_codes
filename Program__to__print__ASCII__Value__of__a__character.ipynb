{
  "nbformat": 4,
  "nbformat_minor": 0,
  "metadata": {
    "colab": {
      "provenance": [],
      "authorship_tag": "ABX9TyN8/fwbezX+LpWtHJNncta8",
      "include_colab_link": true
    },
    "kernelspec": {
      "name": "python3",
      "display_name": "Python 3"
    },
    "language_info": {
      "name": "python"
    }
  },
  "cells": [
    {
      "cell_type": "markdown",
      "metadata": {
        "id": "view-in-github",
        "colab_type": "text"
      },
      "source": [
        "<a href=\"https://colab.research.google.com/github/PavanrajaTirumalasetty/python_codes/blob/main/Program__to__print__ASCII__Value__of__a__character.ipynb\" target=\"_parent\"><img src=\"https://colab.research.google.com/assets/colab-badge.svg\" alt=\"Open In Colab\"/></a>"
      ]
    },
    {
      "cell_type": "code",
      "execution_count": 1,
      "metadata": {
        "colab": {
          "base_uri": "https://localhost:8080/"
        },
        "id": "uw8QH6MhMSz5",
        "outputId": "361d2c77-6187-4778-8339-5306a7ce9d79"
      },
      "outputs": [
        {
          "output_type": "stream",
          "name": "stdout",
          "text": [
            "The ASCII value of 'g' is 103\n"
          ]
        }
      ],
      "source": [
        "# Python program to print\n",
        "# ASCII Value of Character\n",
        "\n",
        "# In c we can assign different\n",
        "# characters of which we want ASCII value\n",
        "\n",
        "c = 'g'\n",
        "# print the ASCII value of assigned character in c\n",
        "print(\"The ASCII value of '\" + c + \"' is\", ord(c))\n"
      ]
    }
  ]
}