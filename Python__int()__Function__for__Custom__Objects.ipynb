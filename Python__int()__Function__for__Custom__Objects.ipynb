{
  "nbformat": 4,
  "nbformat_minor": 0,
  "metadata": {
    "colab": {
      "provenance": [],
      "authorship_tag": "ABX9TyNARjTg86SV101S99SUS+gv",
      "include_colab_link": true
    },
    "kernelspec": {
      "name": "python3",
      "display_name": "Python 3"
    },
    "language_info": {
      "name": "python"
    }
  },
  "cells": [
    {
      "cell_type": "markdown",
      "metadata": {
        "id": "view-in-github",
        "colab_type": "text"
      },
      "source": [
        "<a href=\"https://colab.research.google.com/github/PavanrajaTirumalasetty/python_codes/blob/main/Python__int()__Function__for__Custom__Objects.ipynb\" target=\"_parent\"><img src=\"https://colab.research.google.com/assets/colab-badge.svg\" alt=\"Open In Colab\"/></a>"
      ]
    },
    {
      "cell_type": "code",
      "execution_count": 1,
      "metadata": {
        "id": "K1VSR0uSfEy2",
        "outputId": "6f5c15b1-2b10-4113-d2a7-ced608c272f1",
        "colab": {
          "base_uri": "https://localhost:8080/"
        }
      },
      "outputs": [
        {
          "output_type": "stream",
          "name": "stdout",
          "text": [
            "number = 7\n"
          ]
        }
      ],
      "source": [
        "class Number:\n",
        "    value = 7\n",
        "\n",
        "    def __int__(self):\n",
        "        return self.value\n",
        "\n",
        "data = Number()\n",
        "print(\"number =\", int(data))"
      ]
    }
  ]
}