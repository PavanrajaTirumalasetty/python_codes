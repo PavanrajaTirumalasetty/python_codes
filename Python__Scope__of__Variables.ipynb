{
  "nbformat": 4,
  "nbformat_minor": 0,
  "metadata": {
    "colab": {
      "provenance": [],
      "authorship_tag": "ABX9TyNj4leb41uK6EfaTmWtI6pa",
      "include_colab_link": true
    },
    "kernelspec": {
      "name": "python3",
      "display_name": "Python 3"
    },
    "language_info": {
      "name": "python"
    }
  },
  "cells": [
    {
      "cell_type": "markdown",
      "metadata": {
        "id": "view-in-github",
        "colab_type": "text"
      },
      "source": [
        "<a href=\"https://colab.research.google.com/github/PavanrajaTirumalasetty/python_codes/blob/main/Python__Scope__of__Variables.ipynb\" target=\"_parent\"><img src=\"https://colab.research.google.com/assets/colab-badge.svg\" alt=\"Open In Colab\"/></a>"
      ]
    },
    {
      "cell_type": "code",
      "execution_count": 1,
      "metadata": {
        "colab": {
          "base_uri": "https://localhost:8080/"
        },
        "id": "ly3BP2EPs1I5",
        "outputId": "ad366fa0-8540-4aa2-f961-8ce4dadb5b83"
      },
      "outputs": [
        {
          "output_type": "stream",
          "name": "stdout",
          "text": [
            "I love Geeksforgeeks\n"
          ]
        }
      ],
      "source": [
        "def f():\n",
        "\n",
        "    # local variable\n",
        "    s = \"I love Geeksforgeeks\"\n",
        "    print(s)\n",
        "\n",
        "\n",
        "# Driver code\n",
        "f()"
      ]
    }
  ]
}