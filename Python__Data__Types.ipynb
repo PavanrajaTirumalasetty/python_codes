{
  "nbformat": 4,
  "nbformat_minor": 0,
  "metadata": {
    "colab": {
      "provenance": [],
      "authorship_tag": "ABX9TyPZ4QZMxc8ppOC8+qGtHTKc",
      "include_colab_link": true
    },
    "kernelspec": {
      "name": "python3",
      "display_name": "Python 3"
    },
    "language_info": {
      "name": "python"
    }
  },
  "cells": [
    {
      "cell_type": "markdown",
      "metadata": {
        "id": "view-in-github",
        "colab_type": "text"
      },
      "source": [
        "<a href=\"https://colab.research.google.com/github/PavanrajaTirumalasetty/python_codes/blob/main/Python__Data__Types.ipynb\" target=\"_parent\"><img src=\"https://colab.research.google.com/assets/colab-badge.svg\" alt=\"Open In Colab\"/></a>"
      ]
    },
    {
      "cell_type": "code",
      "execution_count": 1,
      "metadata": {
        "id": "5wWdn_9j15Wa"
      },
      "outputs": [],
      "source": [
        "#  int, float, string, list and set\n",
        "x = 50\n",
        "x = 60.5\n",
        "x = \"Hello World\"\n",
        "x = [\"geeks\", \"for\", \"geeks\"]\n",
        "x = (\"geeks\", \"for\", \"geeks\")\n"
      ]
    }
  ]
}