{
  "nbformat": 4,
  "nbformat_minor": 0,
  "metadata": {
    "colab": {
      "provenance": [],
      "authorship_tag": "ABX9TyOdzml9ocXhDf3mZfckAcP+",
      "include_colab_link": true
    },
    "kernelspec": {
      "name": "python3",
      "display_name": "Python 3"
    },
    "language_info": {
      "name": "python"
    }
  },
  "cells": [
    {
      "cell_type": "markdown",
      "metadata": {
        "id": "view-in-github",
        "colab_type": "text"
      },
      "source": [
        "<a href=\"https://colab.research.google.com/github/PavanrajaTirumalasetty/python_codes/blob/main/Python__Program__for__How__to__check__if__a__given__number__is__Fibonacci__number%3F.ipynb\" target=\"_parent\"><img src=\"https://colab.research.google.com/assets/colab-badge.svg\" alt=\"Open In Colab\"/></a>"
      ]
    },
    {
      "cell_type": "code",
      "execution_count": 1,
      "metadata": {
        "colab": {
          "base_uri": "https://localhost:8080/"
        },
        "id": "x7ElN0mQmPEl",
        "outputId": "94126fe6-033c-42cd-b0c5-8f35ae76340e"
      },
      "outputs": [
        {
          "output_type": "stream",
          "name": "stdout",
          "text": [
            "1 is a Fibonacci Number\n",
            "2 is a Fibonacci Number\n",
            "3 is a Fibonacci Number\n",
            "4 is a not Fibonacci Number \n",
            "5 is a Fibonacci Number\n",
            "6 is a not Fibonacci Number \n",
            "7 is a not Fibonacci Number \n",
            "8 is a Fibonacci Number\n",
            "9 is a not Fibonacci Number \n",
            "10 is a not Fibonacci Number \n"
          ]
        }
      ],
      "source": [
        "# python program to check if x is a perfect square\n",
        "import math\n",
        "\n",
        "# A utility function that returns true if x is perfect square\n",
        "\n",
        "\n",
        "def isPerfectSquare(x):\n",
        "\ts = int(math.sqrt(x))\n",
        "\treturn s*s == x\n",
        "\n",
        "# Returns true if n is a Fibonacci Number, else false\n",
        "\n",
        "\n",
        "def isFibonacci(n):\n",
        "\n",
        "\t# n is Fibonacci if one of 5*n*n + 4 or 5*n*n - 4 or both\n",
        "\t# is a perfect square\n",
        "\treturn isPerfectSquare(5*n*n + 4) or isPerfectSquare(5*n*n - 4)\n",
        "\n",
        "\n",
        "# A utility function to test above functions\n",
        "for i in range(1, 11):\n",
        "\tif (isFibonacci(i) == True):\n",
        "\t\tprint(i, \"is a Fibonacci Number\")\n",
        "\telse:\n",
        "\t\tprint(i, \"is a not Fibonacci Number \")\n"
      ]
    }
  ]
}