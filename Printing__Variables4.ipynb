{
  "nbformat": 4,
  "nbformat_minor": 0,
  "metadata": {
    "colab": {
      "provenance": [],
      "authorship_tag": "ABX9TyP9hXUs/9Z2F0718U6mRs4y",
      "include_colab_link": true
    },
    "kernelspec": {
      "name": "python3",
      "display_name": "Python 3"
    },
    "language_info": {
      "name": "python"
    }
  },
  "cells": [
    {
      "cell_type": "markdown",
      "metadata": {
        "id": "view-in-github",
        "colab_type": "text"
      },
      "source": [
        "<a href=\"https://colab.research.google.com/github/PavanrajaTirumalasetty/python_codes/blob/main/Printing__Variables4.ipynb\" target=\"_parent\"><img src=\"https://colab.research.google.com/assets/colab-badge.svg\" alt=\"Open In Colab\"/></a>"
      ]
    },
    {
      "cell_type": "code",
      "execution_count": 1,
      "metadata": {
        "id": "GELA1rQbiQyA",
        "outputId": "0e2de78f-d272-4b7c-fc2a-a175cb5cd14a",
        "colab": {
          "base_uri": "https://localhost:8080/"
        }
      },
      "outputs": [
        {
          "output_type": "stream",
          "name": "stdout",
          "text": [
            "Bob\n",
            "Alice 25 New York\n"
          ]
        }
      ],
      "source": [
        "# Single variable\n",
        "s = \"Bob\"\n",
        "print(s)\n",
        "\n",
        "# Multiple Variables\n",
        "s = \"Alice\"\n",
        "age = 25\n",
        "city = \"New York\"\n",
        "print(s, age, city)\n"
      ]
    }
  ]
}