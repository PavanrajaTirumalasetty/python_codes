{
  "nbformat": 4,
  "nbformat_minor": 0,
  "metadata": {
    "colab": {
      "provenance": [],
      "authorship_tag": "ABX9TyOOeRFIBP4M/y1iMtTCyT5E",
      "include_colab_link": true
    },
    "kernelspec": {
      "name": "python3",
      "display_name": "Python 3"
    },
    "language_info": {
      "name": "python"
    }
  },
  "cells": [
    {
      "cell_type": "markdown",
      "metadata": {
        "id": "view-in-github",
        "colab_type": "text"
      },
      "source": [
        "<a href=\"https://colab.research.google.com/github/PavanrajaTirumalasetty/python_codes/blob/main/Python__Program__for__nth__multiple__of__a__number__in__Fibonacci__Series.ipynb\" target=\"_parent\"><img src=\"https://colab.research.google.com/assets/colab-badge.svg\" alt=\"Open In Colab\"/></a>"
      ]
    },
    {
      "cell_type": "code",
      "execution_count": 1,
      "metadata": {
        "colab": {
          "base_uri": "https://localhost:8080/"
        },
        "id": "saaIMs-ebl38",
        "outputId": "15e3816e-f8da-4544-fb56-30e4a9ee3a36"
      },
      "outputs": [
        {
          "output_type": "stream",
          "name": "stdout",
          "text": [
            "Position of n'th multiple of k inFibonacci Series is 30\n"
          ]
        }
      ],
      "source": [
        "# Python Program to find position of n\\'th multiple\n",
        "# of a number k in Fibonacci Series\n",
        "\n",
        "def findPosition(k, n):\n",
        "    f1 = 0\n",
        "    f2 = 1\n",
        "    i =2;\n",
        "    while i!=0:\n",
        "        f3 = f1 + f2;\n",
        "        f1 = f2;\n",
        "        f2 = f3;\n",
        "\n",
        "        if f2%k == 0:\n",
        "            return n*i\n",
        "\n",
        "        i+=1\n",
        "\n",
        "    return\n",
        "\n",
        "\n",
        "# Multiple no.\n",
        "n = 5;\n",
        "# Number of whose multiple we are finding\n",
        "k = 4;\n",
        "\n",
        "print(\"Position of n\\'th multiple of k in\"\n",
        "                \"Fibonacci Series is\", findPosition(k,n));\n",
        "\n",
        "# Code contributed by Mohit Gupta_OMG\n"
      ]
    }
  ]
}