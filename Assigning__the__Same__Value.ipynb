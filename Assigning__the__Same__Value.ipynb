{
  "nbformat": 4,
  "nbformat_minor": 0,
  "metadata": {
    "colab": {
      "provenance": [],
      "name": "Assigning _the _Same _Value.ipynb",
      "authorship_tag": "ABX9TyMu3t9PmPx0NFnOESE0cn6z",
      "include_colab_link": true
    },
    "kernelspec": {
      "name": "python3",
      "display_name": "Python 3"
    },
    "language_info": {
      "name": "python"
    }
  },
  "cells": [
    {
      "cell_type": "markdown",
      "metadata": {
        "id": "view-in-github",
        "colab_type": "text"
      },
      "source": [
        "<a href=\"https://colab.research.google.com/github/PavanrajaTirumalasetty/python_codes/blob/main/Assigning__the__Same__Value.ipynb\" target=\"_parent\"><img src=\"https://colab.research.google.com/assets/colab-badge.svg\" alt=\"Open In Colab\"/></a>"
      ]
    },
    {
      "cell_type": "code",
      "execution_count": 1,
      "metadata": {
        "id": "thkr5g8F3XOU",
        "outputId": "204d5bf7-ece4-4858-c98d-fa4bd00eafa0",
        "colab": {
          "base_uri": "https://localhost:8080/"
        }
      },
      "outputs": [
        {
          "output_type": "stream",
          "name": "stdout",
          "text": [
            "100 100 100\n"
          ]
        }
      ],
      "source": [
        "a = b = c = 100\n",
        "print(a, b, c)"
      ]
    }
  ]
}