{
  "nbformat": 4,
  "nbformat_minor": 0,
  "metadata": {
    "colab": {
      "provenance": [],
      "authorship_tag": "ABX9TyPySpB8UK9GuH+Li7S8wbWw",
      "include_colab_link": true
    },
    "kernelspec": {
      "name": "python3",
      "display_name": "Python 3"
    },
    "language_info": {
      "name": "python"
    }
  },
  "cells": [
    {
      "cell_type": "markdown",
      "metadata": {
        "id": "view-in-github",
        "colab_type": "text"
      },
      "source": [
        "<a href=\"https://colab.research.google.com/github/PavanrajaTirumalasetty/python_codes/blob/main/Python__return__statement.ipynb\" target=\"_parent\"><img src=\"https://colab.research.google.com/assets/colab-badge.svg\" alt=\"Open In Colab\"/></a>"
      ]
    },
    {
      "cell_type": "code",
      "execution_count": 1,
      "metadata": {
        "colab": {
          "base_uri": "https://localhost:8080/"
        },
        "id": "MLbb_kdfddsQ",
        "outputId": "63a1f3cc-f9d2-47c5-913f-6e02c7695346"
      },
      "outputs": [
        {
          "output_type": "stream",
          "name": "stdout",
          "text": [
            "5\n",
            "True\n"
          ]
        }
      ],
      "source": [
        "def add(a, b):\n",
        "\n",
        "    # returning sum of a and b\n",
        "    return a + b\n",
        "\n",
        "def is_true(a):\n",
        "\n",
        "    # returning boolean of a\n",
        "    return bool(a)\n",
        "\n",
        "# calling function\n",
        "res = add(2, 3)\n",
        "print(res)\n",
        "\n",
        "res = is_true(2<5)\n",
        "print(res)\n"
      ]
    }
  ]
}