{
  "nbformat": 4,
  "nbformat_minor": 0,
  "metadata": {
    "colab": {
      "provenance": [],
      "authorship_tag": "ABX9TyNe789kEews1TfPELWfLMXk",
      "include_colab_link": true
    },
    "kernelspec": {
      "name": "python3",
      "display_name": "Python 3"
    },
    "language_info": {
      "name": "python"
    }
  },
  "cells": [
    {
      "cell_type": "markdown",
      "metadata": {
        "id": "view-in-github",
        "colab_type": "text"
      },
      "source": [
        "<a href=\"https://colab.research.google.com/github/PavanrajaTirumalasetty/python_codes/blob/main/Global__Variables_.ipynb\" target=\"_parent\"><img src=\"https://colab.research.google.com/assets/colab-badge.svg\" alt=\"Open In Colab\"/></a>"
      ]
    },
    {
      "cell_type": "code",
      "execution_count": 1,
      "metadata": {
        "colab": {
          "base_uri": "https://localhost:8080/"
        },
        "id": "5EC3FYLMB8aI",
        "outputId": "5d87a106-eca3-4ed6-882d-f5b04d7ad35b"
      },
      "outputs": [
        {
          "output_type": "stream",
          "name": "stdout",
          "text": [
            "Modified globally\n",
            "Modified globally\n"
          ]
        }
      ],
      "source": [
        "a = \"I am global\"\n",
        "\n",
        "def f():\n",
        "    global a\n",
        "    a = \"Modified globally\"\n",
        "    print(a)\n",
        "\n",
        "f()\n",
        "print(a)\n",
        "\n"
      ]
    }
  ]
}