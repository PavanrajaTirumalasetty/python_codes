{
  "nbformat": 4,
  "nbformat_minor": 0,
  "metadata": {
    "colab": {
      "provenance": [],
      "authorship_tag": "ABX9TyMFXa+QIp1zQwSSUL8XBmyM",
      "include_colab_link": true
    },
    "kernelspec": {
      "name": "python3",
      "display_name": "Python 3"
    },
    "language_info": {
      "name": "python"
    }
  },
  "cells": [
    {
      "cell_type": "markdown",
      "metadata": {
        "id": "view-in-github",
        "colab_type": "text"
      },
      "source": [
        "<a href=\"https://colab.research.google.com/github/PavanrajaTirumalasetty/python_codes/blob/main/Find__largest__element__in__an__array__Using__Native__Approach.ipynb\" target=\"_parent\"><img src=\"https://colab.research.google.com/assets/colab-badge.svg\" alt=\"Open In Colab\"/></a>"
      ]
    },
    {
      "cell_type": "code",
      "execution_count": 1,
      "metadata": {
        "colab": {
          "base_uri": "https://localhost:8080/"
        },
        "id": "Xu3OaiDJwj5m",
        "outputId": "d44d948a-cf68-4225-8526-27a9be980262"
      },
      "outputs": [
        {
          "output_type": "stream",
          "name": "stdout",
          "text": [
            "Largest in given array  9808\n"
          ]
        }
      ],
      "source": [
        "# Python3 program to find maximum\n",
        "# in arr[] of size n\n",
        "\n",
        "# python function to find maximum\n",
        "# in arr[] of size n\n",
        "\n",
        "\n",
        "def largest(arr, n):\n",
        "\n",
        "\t# Initialize maximum element\n",
        "\tmax = arr[0]\n",
        "\n",
        "\t# Traverse array elements from second\n",
        "\t# and compare every element with\n",
        "\t# current max\n",
        "\tfor i in range(1, n):\n",
        "\t\tif arr[i] > max:\n",
        "\t\t\tmax = arr[i]\n",
        "\treturn max\n",
        "\n",
        "\n",
        "# Driver Code\n",
        "arr = [10, 324, 45, 90, 9808]\n",
        "n = len(arr)\n",
        "Ans = largest(arr, n)\n",
        "print(\"Largest in given array \", Ans)\n"
      ]
    }
  ]
}