{
  "nbformat": 4,
  "nbformat_minor": 0,
  "metadata": {
    "colab": {
      "provenance": [],
      "authorship_tag": "ABX9TyP7wZMy+zUIYK19ocaO5XxK",
      "include_colab_link": true
    },
    "kernelspec": {
      "name": "python3",
      "display_name": "Python 3"
    },
    "language_info": {
      "name": "python"
    }
  },
  "cells": [
    {
      "cell_type": "markdown",
      "metadata": {
        "id": "view-in-github",
        "colab_type": "text"
      },
      "source": [
        "<a href=\"https://colab.research.google.com/github/PavanrajaTirumalasetty/python_codes/blob/main/Getting__the__Type__of__Variable.ipynb\" target=\"_parent\"><img src=\"https://colab.research.google.com/assets/colab-badge.svg\" alt=\"Open In Colab\"/></a>"
      ]
    },
    {
      "cell_type": "code",
      "execution_count": 1,
      "metadata": {
        "colab": {
          "base_uri": "https://localhost:8080/"
        },
        "id": "OCD0hFaxsx-g",
        "outputId": "6872f9d6-5304-4cc3-d4d7-fcc87f95e85c"
      },
      "outputs": [
        {
          "output_type": "stream",
          "name": "stdout",
          "text": [
            "<class 'int'>\n",
            "<class 'float'>\n",
            "<class 'str'>\n",
            "<class 'list'>\n",
            "<class 'dict'>\n",
            "<class 'bool'>\n"
          ]
        }
      ],
      "source": [
        "# Define variables with different data types\n",
        "n = 42\n",
        "f = 3.14\n",
        "s = \"Hello, World!\"\n",
        "li = [1, 2, 3]\n",
        "d = {'key': 'value'}\n",
        "bool = True\n",
        "\n",
        "# Get and print the type of each variable\n",
        "print(type(n))\n",
        "print(type(f))\n",
        "print(type(s))\n",
        "print(type(li))\n",
        "print(type(d))\n",
        "print(type(bool))\n"
      ]
    }
  ]
}