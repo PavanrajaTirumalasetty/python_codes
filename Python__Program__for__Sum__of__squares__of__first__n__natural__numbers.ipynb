{
  "nbformat": 4,
  "nbformat_minor": 0,
  "metadata": {
    "colab": {
      "provenance": [],
      "authorship_tag": "ABX9TyM2r7/ejheX18APPw9pK+Y6",
      "include_colab_link": true
    },
    "kernelspec": {
      "name": "python3",
      "display_name": "Python 3"
    },
    "language_info": {
      "name": "python"
    }
  },
  "cells": [
    {
      "cell_type": "markdown",
      "metadata": {
        "id": "view-in-github",
        "colab_type": "text"
      },
      "source": [
        "<a href=\"https://colab.research.google.com/github/PavanrajaTirumalasetty/python_codes/blob/main/Python__Program__for__Sum__of__squares__of__first__n__natural__numbers.ipynb\" target=\"_parent\"><img src=\"https://colab.research.google.com/assets/colab-badge.svg\" alt=\"Open In Colab\"/></a>"
      ]
    },
    {
      "cell_type": "code",
      "execution_count": 1,
      "metadata": {
        "colab": {
          "base_uri": "https://localhost:8080/"
        },
        "id": "zhw42Mho0q_v",
        "outputId": "d2d0d912-028a-4084-af48-3f0db4c1a5b3"
      },
      "outputs": [
        {
          "output_type": "stream",
          "name": "stdout",
          "text": [
            "30\n"
          ]
        }
      ],
      "source": [
        "# Python3 Program to\n",
        "# find sum of square\n",
        "# of first n natural\n",
        "# numbers\n",
        "\n",
        "\n",
        "# Return the sum of\n",
        "# square of first n\n",
        "# natural numbers\n",
        "\n",
        "def squaresum(n):\n",
        "\n",
        "    # Iterate i from 1\n",
        "    # and n finding\n",
        "    # square of i and\n",
        "    # add to sum.\n",
        "    sm = 0\n",
        "    for i in range(1, n+1):\n",
        "        sm = sm + (i * i)\n",
        "\n",
        "    return sm\n",
        "\n",
        "\n",
        "# Driven Program\n",
        "n = 4\n",
        "print(squaresum(n))\n",
        "\n",
        "# This code is contributed by Nikita Tiwari.*/\n"
      ]
    }
  ]
}