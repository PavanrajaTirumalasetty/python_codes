{
  "nbformat": 4,
  "nbformat_minor": 0,
  "metadata": {
    "colab": {
      "provenance": [],
      "authorship_tag": "ABX9TyNZo7uNlBSxb5+O02lt8hBC",
      "include_colab_link": true
    },
    "kernelspec": {
      "name": "python3",
      "display_name": "Python 3"
    },
    "language_info": {
      "name": "python"
    }
  },
  "cells": [
    {
      "cell_type": "markdown",
      "metadata": {
        "id": "view-in-github",
        "colab_type": "text"
      },
      "source": [
        "<a href=\"https://colab.research.google.com/github/PavanrajaTirumalasetty/python_codes/blob/main/Arithmetic__Operators__in__Python.ipynb\" target=\"_parent\"><img src=\"https://colab.research.google.com/assets/colab-badge.svg\" alt=\"Open In Colab\"/></a>"
      ]
    },
    {
      "cell_type": "code",
      "execution_count": 1,
      "metadata": {
        "id": "1HZRGv3hbcH1",
        "outputId": "ff30f572-3e7a-403a-a407-ed25653a8ea5",
        "colab": {
          "base_uri": "https://localhost:8080/"
        }
      },
      "outputs": [
        {
          "output_type": "stream",
          "name": "stdout",
          "text": [
            "Addition: 19\n",
            "Subtraction: 11\n",
            "Multiplication: 60\n",
            "Division: 3.75\n",
            "Floor Division: 3\n",
            "Modulus: 3\n",
            "Exponentiation: 50625\n"
          ]
        }
      ],
      "source": [
        "# Variables\n",
        "a = 15\n",
        "b = 4\n",
        "\n",
        "# Addition\n",
        "print(\"Addition:\", a + b)\n",
        "\n",
        "# Subtraction\n",
        "print(\"Subtraction:\", a - b)\n",
        "\n",
        "# Multiplication\n",
        "print(\"Multiplication:\", a * b)\n",
        "\n",
        "# Division\n",
        "print(\"Division:\", a / b)\n",
        "\n",
        "# Floor Division\n",
        "print(\"Floor Division:\", a // b)\n",
        "\n",
        "# Modulus\n",
        "print(\"Modulus:\", a % b)\n",
        "\n",
        "# Exponentiation\n",
        "print(\"Exponentiation:\", a ** b)"
      ]
    }
  ]
}