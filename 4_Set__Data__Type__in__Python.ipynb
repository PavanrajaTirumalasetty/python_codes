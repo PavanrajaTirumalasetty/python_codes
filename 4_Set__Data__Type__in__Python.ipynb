{
  "nbformat": 4,
  "nbformat_minor": 0,
  "metadata": {
    "colab": {
      "provenance": [],
      "authorship_tag": "ABX9TyPS+7VRDUNJSfDL/Nl3pzKx",
      "include_colab_link": true
    },
    "kernelspec": {
      "name": "python3",
      "display_name": "Python 3"
    },
    "language_info": {
      "name": "python"
    }
  },
  "cells": [
    {
      "cell_type": "markdown",
      "metadata": {
        "id": "view-in-github",
        "colab_type": "text"
      },
      "source": [
        "<a href=\"https://colab.research.google.com/github/PavanrajaTirumalasetty/python_codes/blob/main/4_Set__Data__Type__in__Python.ipynb\" target=\"_parent\"><img src=\"https://colab.research.google.com/assets/colab-badge.svg\" alt=\"Open In Colab\"/></a>"
      ]
    },
    {
      "cell_type": "code",
      "execution_count": 1,
      "metadata": {
        "colab": {
          "base_uri": "https://localhost:8080/"
        },
        "id": "BzUM3JLspYHO",
        "outputId": "e6d8495b-bb22-4937-8185-e1205448b2f8"
      },
      "outputs": [
        {
          "output_type": "stream",
          "name": "stdout",
          "text": [
            "Set with the use of String:  {'o', 'e', 'r', 'k', 'G', 'F', 's'}\n",
            "Set with the use of List:  {'Geeks', 'For'}\n"
          ]
        }
      ],
      "source": [
        "# initializing empty set\n",
        "s1 = set()\n",
        "\n",
        "s1 = set(\"GeeksForGeeks\")\n",
        "print(\"Set with the use of String: \", s1)\n",
        "\n",
        "s2 = set([\"Geeks\", \"For\", \"Geeks\"])\n",
        "print(\"Set with the use of List: \", s2)\n",
        "\n",
        "\n",
        "\n",
        "\n",
        "\n",
        "\n",
        "\n",
        "\n",
        "\n",
        "\n"
      ]
    }
  ]
}