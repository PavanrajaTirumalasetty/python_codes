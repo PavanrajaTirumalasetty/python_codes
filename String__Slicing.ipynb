{
  "nbformat": 4,
  "nbformat_minor": 0,
  "metadata": {
    "colab": {
      "provenance": [],
      "authorship_tag": "ABX9TyOSqUbPMV97MphsoBCdl2Zg",
      "include_colab_link": true
    },
    "kernelspec": {
      "name": "python3",
      "display_name": "Python 3"
    },
    "language_info": {
      "name": "python"
    }
  },
  "cells": [
    {
      "cell_type": "markdown",
      "metadata": {
        "id": "view-in-github",
        "colab_type": "text"
      },
      "source": [
        "<a href=\"https://colab.research.google.com/github/PavanrajaTirumalasetty/python_codes/blob/main/String__Slicing.ipynb\" target=\"_parent\"><img src=\"https://colab.research.google.com/assets/colab-badge.svg\" alt=\"Open In Colab\"/></a>"
      ]
    },
    {
      "cell_type": "code",
      "execution_count": 1,
      "metadata": {
        "colab": {
          "base_uri": "https://localhost:8080/"
        },
        "id": "npWGqMC2Ejnu",
        "outputId": "a6bb5ca9-28e1-49f7-cb18-d99b8494a1e8"
      },
      "outputs": [
        {
          "output_type": "stream",
          "name": "stdout",
          "text": [
            "eek\n",
            "Gee\n",
            "ksforGeeks\n",
            "skeeGrofskeeG\n"
          ]
        }
      ],
      "source": [
        "s = \"GeeksforGeeks\"\n",
        "\n",
        "# Retrieves characters from index 1 to 3: 'eek'\n",
        "print(s[1:4])\n",
        "\n",
        "# Retrieves characters from beginning to index 2: 'Gee'\n",
        "print(s[:3])\n",
        "\n",
        "# Retrieves characters from index 3 to the end: 'ksforGeeks'\n",
        "print(s[3:])\n",
        "\n",
        "# Reverse a string\n",
        "print(s[::-1])\n"
      ]
    }
  ]
}