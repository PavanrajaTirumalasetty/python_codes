{
  "nbformat": 4,
  "nbformat_minor": 0,
  "metadata": {
    "colab": {
      "provenance": [],
      "authorship_tag": "ABX9TyPaL206HdNKMipNm+lY7oTb",
      "include_colab_link": true
    },
    "kernelspec": {
      "name": "python3",
      "display_name": "Python 3"
    },
    "language_info": {
      "name": "python"
    }
  },
  "cells": [
    {
      "cell_type": "markdown",
      "metadata": {
        "id": "view-in-github",
        "colab_type": "text"
      },
      "source": [
        "<a href=\"https://colab.research.google.com/github/PavanrajaTirumalasetty/python_codes/blob/main/Polymorphism__in__Python.ipynb\" target=\"_parent\"><img src=\"https://colab.research.google.com/assets/colab-badge.svg\" alt=\"Open In Colab\"/></a>"
      ]
    },
    {
      "cell_type": "code",
      "execution_count": 1,
      "metadata": {
        "colab": {
          "base_uri": "https://localhost:8080/"
        },
        "id": "uopIFZw088MA",
        "outputId": "8dbfa3f7-353f-4655-c842-b57268e2c53d"
      },
      "outputs": [
        {
          "output_type": "stream",
          "name": "stdout",
          "text": [
            "5\n",
            "3\n",
            "3\n",
            "z\n"
          ]
        }
      ],
      "source": [
        "print(len(\"Hello\"))  # String length\n",
        "print(len([1, 2, 3]))  # List length\n",
        "\n",
        "print(max(1, 3, 2))  # Maximum of integers\n",
        "print(max(\"a\", \"z\", \"m\"))  # Maximum in strings"
      ]
    }
  ]
}