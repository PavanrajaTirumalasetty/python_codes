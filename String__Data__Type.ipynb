{
  "nbformat": 4,
  "nbformat_minor": 0,
  "metadata": {
    "colab": {
      "provenance": [],
      "authorship_tag": "ABX9TyNH0DRPk1jrUlU3/hNGn6k9",
      "include_colab_link": true
    },
    "kernelspec": {
      "name": "python3",
      "display_name": "Python 3"
    },
    "language_info": {
      "name": "python"
    }
  },
  "cells": [
    {
      "cell_type": "markdown",
      "metadata": {
        "id": "view-in-github",
        "colab_type": "text"
      },
      "source": [
        "<a href=\"https://colab.research.google.com/github/PavanrajaTirumalasetty/python_codes/blob/main/String__Data__Type.ipynb\" target=\"_parent\"><img src=\"https://colab.research.google.com/assets/colab-badge.svg\" alt=\"Open In Colab\"/></a>"
      ]
    },
    {
      "cell_type": "code",
      "execution_count": 1,
      "metadata": {
        "colab": {
          "base_uri": "https://localhost:8080/"
        },
        "id": "_-xxzEGR7Rwr",
        "outputId": "5e1553c9-afe0-4c22-81cb-4449f8c23856"
      },
      "outputs": [
        {
          "output_type": "stream",
          "name": "stdout",
          "text": [
            "Welcome to the Geeks World\n",
            "<class 'str'>\n",
            "e\n",
            "l\n",
            "d\n"
          ]
        }
      ],
      "source": [
        "s = 'Welcome to the Geeks World'\n",
        "print(s)\n",
        "\n",
        "# check data type\n",
        "print(type(s))\n",
        "\n",
        "# access string with index\n",
        "print(s[1])\n",
        "print(s[2])\n",
        "print(s[-1])"
      ]
    }
  ]
}